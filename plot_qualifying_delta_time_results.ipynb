{
  "cells": [
    {
      "cell_type": "markdown",
      "metadata": {},
      "source": [
        "# Qualifying results overview\n",
        "\n",
        "Plot the qualifying result with visualization the fastest times.\n"
      ]
    },
    {
      "cell_type": "code",
      "execution_count": 1,
      "metadata": {
        "collapsed": false
      },
      "outputs": [],
      "source": [
        "import matplotlib.pyplot as plt\n",
        "import pandas as pd\n",
        "from timple.timedelta import strftimedelta\n",
        "import matplotlib as mpl\n",
        "\n",
        "import fastf1\n",
        "import fastf1.plotting\n",
        "from fastf1.core import Laps"
      ]
    },
    {
      "cell_type": "markdown",
      "metadata": {},
      "source": [
        "First, we need to get an array of all drivers.\n",
        "\n"
      ]
    },
    {
      "cell_type": "code",
      "execution_count": 8,
      "metadata": {},
      "outputs": [],
      "source": [
        "drivers = [\"ALB\", \"ALO\", \n",
        "            \"BOT\", \"DEV\", \n",
        "            \"GAS\", \"HAM\", \n",
        "            \"HUL\", \"LEC\", \n",
        "            \"MAG\", \"NOR\", \n",
        "            \"OCO\", \"PER\", \n",
        "            \"PIA\", \"RUS\", \n",
        "            \"SAI\", \"SAR\", \n",
        "            \"STR\", \"TSU\", \n",
        "            \"VER\", \"ZHO\"]"
      ]
    },
    {
      "cell_type": "code",
      "execution_count": 3,
      "metadata": {},
      "outputs": [],
      "source": [
        "# we only want support for timedelta plotting in this example\n",
        "fastf1.plotting.setup_mpl(mpl_timedelta_support=True, color_scheme=None, misc_mpl_mods=False)"
      ]
    },
    {
      "cell_type": "markdown",
      "metadata": {},
      "source": [
        "After that we'll get each drivers fastest lap, create a new laps object\n",
        "from these laps, sort them by lap time and have pandas reindex them to\n",
        "number them nicely by starting position.\n",
        "\n"
      ]
    },
    {
      "cell_type": "code",
      "execution_count": 9,
      "metadata": {
        "collapsed": false
      },
      "outputs": [],
      "source": [
        "def plot_qualifying_delta_time_result(year, race):\n",
        "    session = fastf1.get_session(year, race, 'Q')\n",
        "    session.load()\n",
        "\n",
        "    #drivers = pd.unique(session.laps['Driver'])\n",
        "    list_fastest_laps = list()\n",
        "    for drv in drivers:\n",
        "        drvs_fastest_lap = session.laps.pick_driver(drv).pick_fastest()\n",
        "        list_fastest_laps.append(drvs_fastest_lap)\n",
        "    fastest_laps = Laps(list_fastest_laps).sort_values(by='LapTime').reset_index(drop=True)\n",
        "\n",
        "    pole_lap = fastest_laps.pick_fastest()\n",
        "    fastest_laps['LapTimeDelta'] = fastest_laps['LapTime'] - pole_lap['LapTime']\n",
        "\n",
        "    team_colors = list()\n",
        "    for index, lap in fastest_laps.iterlaps():\n",
        "        color = fastf1.plotting.team_color(lap['Team'])\n",
        "        team_colors.append(color)\n",
        "\n",
        "    fig, ax = plt.subplots()\n",
        "    ax.barh(fastest_laps.index, fastest_laps['LapTimeDelta'],\n",
        "            color=team_colors, edgecolor='white')\n",
        "    ax.set_yticks(fastest_laps.index)\n",
        "    ax.set_yticklabels(fastest_laps['Driver'])\n",
        "\n",
        "    # show fastest at the top\n",
        "    ax.invert_yaxis()\n",
        "\n",
        "    # draw vertical lines behind the bars\n",
        "    ax.set_axisbelow(True)\n",
        "    ax.xaxis.grid(True, which='major', linestyle='--', color='white', zorder=-1000)\n",
        "\n",
        "    lap_time_string = strftimedelta(pole_lap['LapTime'], '%m:%s.%ms')\n",
        "\n",
        "    plt.suptitle(f\"{session.event['EventName']} {session.event.year} Qualifying\\n\"\n",
        "                f\"Fastest Lap: {lap_time_string} ({pole_lap['Driver']})\")\n",
        "\n",
        "    plt.figure().set_size_inches(50000, 500000, forward=True)\n",
        "    fig.set_dpi(1000)\n",
        "    fig.set_facecolor(\"black\")\n",
        "    ax.set_facecolor(\"black\")\n",
        "\n",
        "    mpl.rc('text', color='white')\n",
        "    mpl.rc('axes', labelcolor='white')\n",
        "    mpl.rc('xtick', color='white')\n",
        "    mpl.rc('ytick', color='white')\n",
        "    \n",
        "    plt.show()"
      ]
    },
    {
      "cell_type": "code",
      "execution_count": 10,
      "metadata": {},
      "outputs": [
        {
          "name": "stderr",
          "output_type": "stream",
          "text": [
            "core           INFO \tLoading data for Canadian Grand Prix - Qualifying [v3.0.3]\n"
          ]
        },
        {
          "name": "stderr",
          "output_type": "stream",
          "text": [
            "req            INFO \tUsing cached data for driver_info\n",
            "req            INFO \tUsing cached data for session_status_data\n",
            "req            INFO \tUsing cached data for track_status_data\n",
            "req            INFO \tUsing cached data for timing_data\n",
            "req            INFO \tUsing cached data for timing_app_data\n",
            "core           INFO \tProcessing timing data...\n",
            "req            INFO \tUsing cached data for car_data\n",
            "req            INFO \tUsing cached data for position_data\n",
            "req            INFO \tUsing cached data for weather_data\n",
            "req            INFO \tUsing cached data for race_control_messages\n",
            "core           INFO \tFinished loading data for 20 drivers: ['1', '27', '14', '44', '63', '31', '4', '55', '81', '23', '16', '11', '18', '20', '77', '22', '10', '21', '2', '24']\n"
          ]
        },
        {
          "ename": "AttributeError",
          "evalue": "'NaTType' object has no attribute 'upper'",
          "output_type": "error",
          "traceback": [
            "\u001b[0;31m---------------------------------------------------------------------------\u001b[0m",
            "\u001b[0;31mAttributeError\u001b[0m                            Traceback (most recent call last)",
            "Cell \u001b[0;32mIn[10], line 1\u001b[0m\n\u001b[0;32m----> 1\u001b[0m plot_qualifying_delta_time_result(\u001b[39m2023\u001b[39;49m, \u001b[39m\"\u001b[39;49m\u001b[39mcanada\u001b[39;49m\u001b[39m\"\u001b[39;49m)\n",
            "Cell \u001b[0;32mIn[9], line 17\u001b[0m, in \u001b[0;36mplot_qualifying_delta_time_result\u001b[0;34m(year, race)\u001b[0m\n\u001b[1;32m     15\u001b[0m team_colors \u001b[39m=\u001b[39m \u001b[39mlist\u001b[39m()\n\u001b[1;32m     16\u001b[0m \u001b[39mfor\u001b[39;00m index, lap \u001b[39min\u001b[39;00m fastest_laps\u001b[39m.\u001b[39miterlaps():\n\u001b[0;32m---> 17\u001b[0m     color \u001b[39m=\u001b[39m fastf1\u001b[39m.\u001b[39;49mplotting\u001b[39m.\u001b[39;49mteam_color(lap[\u001b[39m'\u001b[39;49m\u001b[39mTeam\u001b[39;49m\u001b[39m'\u001b[39;49m])\n\u001b[1;32m     18\u001b[0m     team_colors\u001b[39m.\u001b[39mappend(color)\n\u001b[1;32m     20\u001b[0m fig, ax \u001b[39m=\u001b[39m plt\u001b[39m.\u001b[39msubplots()\n",
            "File \u001b[0;32m/Library/Frameworks/Python.framework/Versions/3.11/lib/python3.11/site-packages/fastf1/plotting.py:310\u001b[0m, in \u001b[0;36mteam_color\u001b[0;34m(identifier)\u001b[0m\n\u001b[1;32m    270\u001b[0m \u001b[39mdef\u001b[39;00m \u001b[39mteam_color\u001b[39m(identifier: \u001b[39mstr\u001b[39m) \u001b[39m-\u001b[39m\u001b[39m>\u001b[39m \u001b[39mstr\u001b[39m:\n\u001b[1;32m    271\u001b[0m \u001b[39m    \u001b[39m\u001b[39m\"\"\"Get a team's color from a team name or abbreviation.\u001b[39;00m\n\u001b[1;32m    272\u001b[0m \n\u001b[1;32m    273\u001b[0m \u001b[39m    This function will try to find a matching team for any identifier string\u001b[39;00m\n\u001b[0;32m   (...)\u001b[0m\n\u001b[1;32m    308\u001b[0m \u001b[39m        str: hex color code\u001b[39;00m\n\u001b[1;32m    309\u001b[0m \u001b[39m    \"\"\"\u001b[39;00m\n\u001b[0;32m--> 310\u001b[0m     \u001b[39mif\u001b[39;00m identifier\u001b[39m.\u001b[39;49mupper() \u001b[39min\u001b[39;00m TEAM_TRANSLATE:\n\u001b[1;32m    311\u001b[0m         \u001b[39m# try short team abbreviations first\u001b[39;00m\n\u001b[1;32m    312\u001b[0m         \u001b[39mreturn\u001b[39;00m TEAM_COLORS[TEAM_TRANSLATE[identifier\u001b[39m.\u001b[39mupper()]]\n\u001b[1;32m    313\u001b[0m     \u001b[39melse\u001b[39;00m:\n",
            "\u001b[0;31mAttributeError\u001b[0m: 'NaTType' object has no attribute 'upper'"
          ]
        }
      ],
      "source": [
        "plot_qualifying_delta_time_result(2023, \"canada\")"
      ]
    },
    {
      "cell_type": "markdown",
      "metadata": {},
      "source": [
        "The plot is nicer to look at and more easily understandable if we just plot\n",
        "the time differences. Therefore we subtract the fastest lap time from all\n",
        "other lap times.\n",
        "\n"
      ]
    },
    {
      "cell_type": "markdown",
      "metadata": {},
      "source": [
        "We can take a quick look at the laps we have to check if everything\n",
        "looks all right. For this, we'll just check the 'Driver', 'LapTime'\n",
        "and 'LapTimeDelta' columns.\n",
        "\n"
      ]
    },
    {
      "cell_type": "markdown",
      "metadata": {},
      "source": [
        "Finally, we'll create a list of team colors per lap to color our plot.\n",
        "\n"
      ]
    },
    {
      "cell_type": "markdown",
      "metadata": {},
      "source": [
        "Now, we can plot all the data\n",
        "\n"
      ]
    }
  ],
  "metadata": {
    "kernelspec": {
      "display_name": "Python 3",
      "language": "python",
      "name": "python3"
    },
    "language_info": {
      "codemirror_mode": {
        "name": "ipython",
        "version": 3
      },
      "file_extension": ".py",
      "mimetype": "text/x-python",
      "name": "python",
      "nbconvert_exporter": "python",
      "pygments_lexer": "ipython3",
      "version": "3.11.4"
    }
  },
  "nbformat": 4,
  "nbformat_minor": 0
}
