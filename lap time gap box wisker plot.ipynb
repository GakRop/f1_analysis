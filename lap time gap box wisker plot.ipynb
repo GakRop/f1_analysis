{
 "cells": [
  {
   "cell_type": "code",
   "execution_count": 1,
   "metadata": {},
   "outputs": [],
   "source": [
    "import fastf1\n",
    "import fastf1.plotting\n",
    "import seaborn as sns\n",
    "from matplotlib import pyplot as plt\n",
    "import math\n",
    "import pandas as pd"
   ]
  },
  {
   "cell_type": "code",
   "execution_count": 2,
   "metadata": {},
   "outputs": [],
   "source": [
    "drivers = [\"ALB\", \"ALO\", \n",
    "            \"BOT\", \"RIC\", \n",
    "            \"GAS\", \"HAM\", \n",
    "            \"HUL\", \"LEC\", \n",
    "            \"MAG\", \"NOR\", \n",
    "            \"OCO\", \"PER\", \n",
    "            \"PIA\", \"RUS\", \n",
    "            \"SAI\", \"SAR\", \n",
    "            \"STR\", \"TSU\", \n",
    "            \"VER\", \"ZHO\"]"
   ]
  },
  {
   "cell_type": "code",
   "execution_count": 3,
   "metadata": {},
   "outputs": [
    {
     "name": "stderr",
     "output_type": "stream",
     "text": [
      "req         WARNING \t\n",
      "\n",
      "DEFAULT CACHE ENABLED!\n",
      "\tCache directory: /Users/gakroppongi/Library/Caches/fastf1.\n",
      "\tSize: 2.07 GB\n"
     ]
    },
    {
     "name": "stderr",
     "output_type": "stream",
     "text": [
      "core           INFO \tLoading data for Hungarian Grand Prix - Race [v3.0.7]\n",
      "req            INFO \tUsing cached data for driver_info\n",
      "req            INFO \tUsing cached data for session_status_data\n",
      "req            INFO \tUsing cached data for lap_count\n",
      "req            INFO \tUsing cached data for track_status_data\n",
      "req            INFO \tUsing cached data for timing_data\n",
      "req            INFO \tUsing cached data for timing_app_data\n",
      "core           INFO \tProcessing timing data...\n",
      "req            INFO \tUsing cached data for car_data\n",
      "req            INFO \tUsing cached data for position_data\n",
      "req            INFO \tUsing cached data for weather_data\n",
      "req            INFO \tUsing cached data for race_control_messages\n",
      "core           INFO \tFinished loading data for 20 drivers: ['1', '4', '11', '44', '81', '63', '16', '55', '14', '18', '23', '77', '3', '27', '22', '24', '20', '2', '31', '10']\n"
     ]
    }
   ],
   "source": [
    "session = fastf1.get_session(2023, \"hungary\", 'R')\n",
    "session.load()"
   ]
  },
  {
   "cell_type": "code",
   "execution_count": 26,
   "metadata": {},
   "outputs": [],
   "source": [
    "def summerize_lap_time_stat(session, drivers):\n",
    "    for driver in drivers:\n",
    "        driver_laps = session.laps.pick_driver(driver).pick_quicklaps().reset_index()\n",
    "        grouped_laps = driver_laps.groupby(\"Stint\")\n",
    "        mean_lap_time = grouped_laps.LapTime.mean().dt.total_seconds()\n",
    "        gap_to_avg = [[None for i in range(3)] for j in range(len(driver_laps))]\n",
    "\n",
    "        for i in range(len(driver_laps)):\n",
    "            stint = driver_laps.iloc[i].Stint\n",
    "            avg = mean_lap_time.iloc[int(stint-1.0)]\n",
    "            lap_time = driver_laps.iloc[i].LapTime.total_seconds()\n",
    "            gap_to_avg[i][0] = lap_time - avg\n",
    "            gap_to_avg[i][1] = stint\n",
    "            gap_to_avg[i][2] = driver_laps.iloc[i].Compound\n",
    "\n",
    "        df = pd.DataFrame(gap_to_avg, columns=[\"gap\", \"Stint\", \"Compound\"])\n",
    "        df = df.groupby(\"Stint\")\n",
    "        df.describe()\n",
    "\n",
    "        grouped = session.laps.pick_driver(\"VER\").pick_quicklaps().groupby(\"Stint\")\n",
    "        grouped = grouped.LapTime\n",
    "        grouped.describe()"
   ]
  },
  {
   "cell_type": "code",
   "execution_count": 25,
   "metadata": {},
   "outputs": [],
   "source": [
    "def plot_box_wisker_plot_of_lap_time_to_avg(session, drivers):\n",
    "    for driver in drivers:\n",
    "        driver_laps = session.laps.pick_driver(driver).pick_quicklaps().reset_index()\n",
    "        grouped_laps = driver_laps.groupby(\"Stint\")\n",
    "        mean_lap_time = grouped_laps.LapTime.mean().dt.total_seconds()\n",
    "        gap_to_avg = [[None for i in range(3)] for j in range(len(driver_laps))]\n",
    "\n",
    "        for i in range(len(driver_laps)):\n",
    "            stint = driver_laps.iloc[i].Stint\n",
    "            avg = mean_lap_time.iloc[int(stint-1.0)]\n",
    "            lap_time = driver_laps.iloc[i].LapTime.total_seconds()\n",
    "            gap_to_avg[i][0] = lap_time - avg\n",
    "            gap_to_avg[i][1] = stint\n",
    "            gap_to_avg[i][2] = driver_laps.iloc[i].Compound\n",
    "\n",
    "        df = pd.DataFrame(gap_to_avg, columns=[\"gap\", \"Stint\", \"Compound\"])\n",
    "\n",
    "        # Create a figure with two subplots: one for the plot and one for the table\n",
    "        fig, ax = plt.subplots(1, 1, figsize=(8, 8))\n",
    "\n",
    "        # Create the boxplot on the first subplot\n",
    "        sns.boxplot(y=\"gap\", x=\"Stint\", data=df, hue=\"Compound\", palette=fastf1.plotting.COMPOUND_COLORS)\n",
    "\n",
    "        plt.show()"
   ]
  }
 ],
 "metadata": {
  "kernelspec": {
   "display_name": "Python 3",
   "language": "python",
   "name": "python3"
  },
  "language_info": {
   "codemirror_mode": {
    "name": "ipython",
    "version": 3
   },
   "file_extension": ".py",
   "mimetype": "text/x-python",
   "name": "python",
   "nbconvert_exporter": "python",
   "pygments_lexer": "ipython3",
   "version": "3.11.4"
  },
  "orig_nbformat": 4
 },
 "nbformat": 4,
 "nbformat_minor": 2
}
