{
 "cells": [
  {
   "cell_type": "code",
   "execution_count": 1,
   "metadata": {},
   "outputs": [],
   "source": [
    "import fastf1\n",
    "import fastf1.plotting\n",
    "import seaborn as sns\n",
    "from matplotlib import pyplot as plt\n",
    "\n",
    "# enabling misc_mpl_mods will turn on minor grid lines that clutters the plot\n",
    "fastf1.plotting.setup_mpl(mpl_timedelta_support=False, misc_mpl_mods=False)"
   ]
  },
  {
   "cell_type": "markdown",
   "metadata": {},
   "source": [
    "drivers = [\"ALB\", \"ALO\", \n",
    "            \"BOT\", \"DEV\", \n",
    "            \"GAS\", \"HAM\", \n",
    "            \"HUL\", \"LEC\", \n",
    "            \"MAG\", \"NOR\", \n",
    "            \"OCO\", \"PER\", \n",
    "            \"PIA\", \"RUS\", \n",
    "            \"SAI\", \"SAR\", \n",
    "            \"STR\", \"TSU\", \n",
    "            \"VER\", \"ZHO\"]"
   ]
  },
  {
   "cell_type": "code",
   "execution_count": 2,
   "metadata": {},
   "outputs": [
    {
     "name": "stderr",
     "output_type": "stream",
     "text": [
      "req         WARNING \t\n",
      "\n",
      "DEFAULT CACHE ENABLED!\n",
      "\tCache directory: C:\\Users\\gakro\\AppData\\Local\\Temp\\fastf1.\n",
      "\tSize: 1.79 GB\n"
     ]
    },
    {
     "name": "stderr",
     "output_type": "stream",
     "text": [
      "core           INFO \tLoading data for Hungarian Grand Prix - Race [v3.0.6]\n",
      "req            INFO \tUsing cached data for driver_info\n",
      "req            INFO \tUsing cached data for session_status_data\n",
      "req            INFO \tUsing cached data for lap_count\n",
      "req            INFO \tUsing cached data for track_status_data\n",
      "req            INFO \tUsing cached data for timing_data\n",
      "req            INFO \tUsing cached data for timing_app_data\n",
      "core           INFO \tProcessing timing data...\n",
      "req            INFO \tUsing cached data for car_data\n",
      "req            INFO \tUsing cached data for position_data\n",
      "req            INFO \tUsing cached data for weather_data\n",
      "req            INFO \tUsing cached data for race_control_messages\n",
      "core           INFO \tFinished loading data for 20 drivers: ['1', '4', '11', '44', '81', '63', '16', '55', '14', '18', '23', '77', '3', '27', '22', '24', '20', '2', '31', '10']\n"
     ]
    }
   ],
   "source": [
    "session = fastf1.get_session(2023, \"hungary\", 'R')\n",
    "session.load()"
   ]
  },
  {
   "cell_type": "code",
   "execution_count": 3,
   "metadata": {},
   "outputs": [],
   "source": [
    "def lap_time_distribution(session):\n",
    "    drivers = session.results.Abbreviation\n",
    "    driver_laps = session.laps.pick_drivers(drivers).pick_quicklaps()\n",
    "    driver_laps = driver_laps.reset_index()\n",
    "\n",
    "    finishing_order = [session.get_driver(i).Abbreviation for i in drivers]\n",
    "\n",
    "    driver_colors = {abv: fastf1.plotting.DRIVER_COLORS[driver] for abv, driver in fastf1.plotting.DRIVER_TRANSLATE.items()}\n",
    "\n",
    "    # create the figure\n",
    "    fig, ax = plt.subplots(figsize=(10, 5))\n",
    "\n",
    "    # Seaborn doesn't have proper timedelta support\n",
    "    # so we have to convert timedelta to float (in seconds)\n",
    "    driver_laps[\"LapTime(s)\"] = driver_laps[\"LapTime\"].dt.total_seconds()\n",
    "\n",
    "    sns.violinplot(data=driver_laps,\n",
    "                x=\"Driver\",\n",
    "                y=\"LapTime(s)\",\n",
    "                inner=None,\n",
    "                scale=\"area\",\n",
    "                order=finishing_order,\n",
    "                palette=driver_colors\n",
    "                )\n",
    "\n",
    "    sns.swarmplot(data=driver_laps,\n",
    "                x=\"Driver\",\n",
    "                y=\"LapTime(s)\",\n",
    "                order=finishing_order,\n",
    "                hue=\"Compound\",\n",
    "                palette=fastf1.plotting.COMPOUND_COLORS,\n",
    "                hue_order=[\"SOFT\", \"MEDIUM\", \"HARD\"],\n",
    "                linewidth=0,\n",
    "                size=5,\n",
    "                )\n",
    "\n",
    "    ax.set_xlabel(\"Driver\")\n",
    "    ax.set_ylabel(\"Lap Time\")\n",
    "    sns.despine(left=True, bottom=True)\n",
    "\n",
    "    ax.legend()\n",
    "    plt.suptitle(f\"Lap time distribution \\n \"f\"{session.event['EventName']} {session.event.year} Race\")\n",
    "    plt.figure().set_size_inches(50000, 500000, forward=True)\n",
    "    fig.set_dpi(1000)\n",
    "\n",
    "    plt.show()"
   ]
  },
  {
   "cell_type": "code",
   "execution_count": 4,
   "metadata": {},
   "outputs": [
    {
     "ename": "KeyError",
     "evalue": "'RIC'",
     "output_type": "error",
     "traceback": [
      "\u001b[1;31m---------------------------------------------------------------------------\u001b[0m",
      "\u001b[1;31mKeyError\u001b[0m                                  Traceback (most recent call last)",
      "Cell \u001b[1;32mIn[4], line 1\u001b[0m\n\u001b[1;32m----> 1\u001b[0m lap_time_distribution(session)\n",
      "Cell \u001b[1;32mIn[3], line 17\u001b[0m, in \u001b[0;36mlap_time_distribution\u001b[1;34m(session)\u001b[0m\n\u001b[0;32m     13\u001b[0m \u001b[39m# Seaborn doesn't have proper timedelta support\u001b[39;00m\n\u001b[0;32m     14\u001b[0m \u001b[39m# so we have to convert timedelta to float (in seconds)\u001b[39;00m\n\u001b[0;32m     15\u001b[0m driver_laps[\u001b[39m\"\u001b[39m\u001b[39mLapTime(s)\u001b[39m\u001b[39m\"\u001b[39m] \u001b[39m=\u001b[39m driver_laps[\u001b[39m\"\u001b[39m\u001b[39mLapTime\u001b[39m\u001b[39m\"\u001b[39m]\u001b[39m.\u001b[39mdt\u001b[39m.\u001b[39mtotal_seconds()\n\u001b[1;32m---> 17\u001b[0m sns\u001b[39m.\u001b[39;49mviolinplot(data\u001b[39m=\u001b[39;49mdriver_laps,\n\u001b[0;32m     18\u001b[0m             x\u001b[39m=\u001b[39;49m\u001b[39m\"\u001b[39;49m\u001b[39mDriver\u001b[39;49m\u001b[39m\"\u001b[39;49m,\n\u001b[0;32m     19\u001b[0m             y\u001b[39m=\u001b[39;49m\u001b[39m\"\u001b[39;49m\u001b[39mLapTime(s)\u001b[39;49m\u001b[39m\"\u001b[39;49m,\n\u001b[0;32m     20\u001b[0m             inner\u001b[39m=\u001b[39;49m\u001b[39mNone\u001b[39;49;00m,\n\u001b[0;32m     21\u001b[0m             scale\u001b[39m=\u001b[39;49m\u001b[39m\"\u001b[39;49m\u001b[39marea\u001b[39;49m\u001b[39m\"\u001b[39;49m,\n\u001b[0;32m     22\u001b[0m             order\u001b[39m=\u001b[39;49mfinishing_order,\n\u001b[0;32m     23\u001b[0m             palette\u001b[39m=\u001b[39;49mdriver_colors\n\u001b[0;32m     24\u001b[0m             )\n\u001b[0;32m     26\u001b[0m sns\u001b[39m.\u001b[39mswarmplot(data\u001b[39m=\u001b[39mdriver_laps,\n\u001b[0;32m     27\u001b[0m             x\u001b[39m=\u001b[39m\u001b[39m\"\u001b[39m\u001b[39mDriver\u001b[39m\u001b[39m\"\u001b[39m,\n\u001b[0;32m     28\u001b[0m             y\u001b[39m=\u001b[39m\u001b[39m\"\u001b[39m\u001b[39mLapTime(s)\u001b[39m\u001b[39m\"\u001b[39m,\n\u001b[1;32m   (...)\u001b[0m\n\u001b[0;32m     34\u001b[0m             size\u001b[39m=\u001b[39m\u001b[39m5\u001b[39m,\n\u001b[0;32m     35\u001b[0m             )\n\u001b[0;32m     37\u001b[0m ax\u001b[39m.\u001b[39mset_xlabel(\u001b[39m\"\u001b[39m\u001b[39mDriver\u001b[39m\u001b[39m\"\u001b[39m)\n",
      "File \u001b[1;32m~\\AppData\\Local\\Packages\\PythonSoftwareFoundation.Python.3.11_qbz5n2kfra8p0\\LocalCache\\local-packages\\Python311\\site-packages\\seaborn\\categorical.py:2305\u001b[0m, in \u001b[0;36mviolinplot\u001b[1;34m(data, x, y, hue, order, hue_order, bw, cut, scale, scale_hue, gridsize, width, inner, split, dodge, orient, linewidth, color, palette, saturation, ax, **kwargs)\u001b[0m\n\u001b[0;32m   2297\u001b[0m \u001b[39mdef\u001b[39;00m \u001b[39mviolinplot\u001b[39m(\n\u001b[0;32m   2298\u001b[0m     data\u001b[39m=\u001b[39m\u001b[39mNone\u001b[39;00m, \u001b[39m*\u001b[39m, x\u001b[39m=\u001b[39m\u001b[39mNone\u001b[39;00m, y\u001b[39m=\u001b[39m\u001b[39mNone\u001b[39;00m, hue\u001b[39m=\u001b[39m\u001b[39mNone\u001b[39;00m, order\u001b[39m=\u001b[39m\u001b[39mNone\u001b[39;00m, hue_order\u001b[39m=\u001b[39m\u001b[39mNone\u001b[39;00m,\n\u001b[0;32m   2299\u001b[0m     bw\u001b[39m=\u001b[39m\u001b[39m\"\u001b[39m\u001b[39mscott\u001b[39m\u001b[39m\"\u001b[39m, cut\u001b[39m=\u001b[39m\u001b[39m2\u001b[39m, scale\u001b[39m=\u001b[39m\u001b[39m\"\u001b[39m\u001b[39marea\u001b[39m\u001b[39m\"\u001b[39m, scale_hue\u001b[39m=\u001b[39m\u001b[39mTrue\u001b[39;00m, gridsize\u001b[39m=\u001b[39m\u001b[39m100\u001b[39m,\n\u001b[1;32m   (...)\u001b[0m\n\u001b[0;32m   2302\u001b[0m     ax\u001b[39m=\u001b[39m\u001b[39mNone\u001b[39;00m, \u001b[39m*\u001b[39m\u001b[39m*\u001b[39mkwargs,\n\u001b[0;32m   2303\u001b[0m ):\n\u001b[1;32m-> 2305\u001b[0m     plotter \u001b[39m=\u001b[39m _ViolinPlotter(x, y, hue, data, order, hue_order,\n\u001b[0;32m   2306\u001b[0m                              bw, cut, scale, scale_hue, gridsize,\n\u001b[0;32m   2307\u001b[0m                              width, inner, split, dodge, orient, linewidth,\n\u001b[0;32m   2308\u001b[0m                              color, palette, saturation)\n\u001b[0;32m   2310\u001b[0m     \u001b[39mif\u001b[39;00m ax \u001b[39mis\u001b[39;00m \u001b[39mNone\u001b[39;00m:\n\u001b[0;32m   2311\u001b[0m         ax \u001b[39m=\u001b[39m plt\u001b[39m.\u001b[39mgca()\n",
      "File \u001b[1;32m~\\AppData\\Local\\Packages\\PythonSoftwareFoundation.Python.3.11_qbz5n2kfra8p0\\LocalCache\\local-packages\\Python311\\site-packages\\seaborn\\categorical.py:902\u001b[0m, in \u001b[0;36m_ViolinPlotter.__init__\u001b[1;34m(self, x, y, hue, data, order, hue_order, bw, cut, scale, scale_hue, gridsize, width, inner, split, dodge, orient, linewidth, color, palette, saturation)\u001b[0m\n\u001b[0;32m    896\u001b[0m \u001b[39mdef\u001b[39;00m \u001b[39m__init__\u001b[39m(\u001b[39mself\u001b[39m, x, y, hue, data, order, hue_order,\n\u001b[0;32m    897\u001b[0m              bw, cut, scale, scale_hue, gridsize,\n\u001b[0;32m    898\u001b[0m              width, inner, split, dodge, orient, linewidth,\n\u001b[0;32m    899\u001b[0m              color, palette, saturation):\n\u001b[0;32m    901\u001b[0m     \u001b[39mself\u001b[39m\u001b[39m.\u001b[39mestablish_variables(x, y, hue, data, orient, order, hue_order)\n\u001b[1;32m--> 902\u001b[0m     \u001b[39mself\u001b[39;49m\u001b[39m.\u001b[39;49mestablish_colors(color, palette, saturation)\n\u001b[0;32m    903\u001b[0m     \u001b[39mself\u001b[39m\u001b[39m.\u001b[39mestimate_densities(bw, cut, scale, scale_hue, gridsize)\n\u001b[0;32m    905\u001b[0m     \u001b[39mself\u001b[39m\u001b[39m.\u001b[39mgridsize \u001b[39m=\u001b[39m gridsize\n",
      "File \u001b[1;32m~\\AppData\\Local\\Packages\\PythonSoftwareFoundation.Python.3.11_qbz5n2kfra8p0\\LocalCache\\local-packages\\Python311\\site-packages\\seaborn\\categorical.py:694\u001b[0m, in \u001b[0;36m_CategoricalPlotter.establish_colors\u001b[1;34m(self, color, palette, saturation)\u001b[0m\n\u001b[0;32m    692\u001b[0m         \u001b[39melse\u001b[39;00m:\n\u001b[0;32m    693\u001b[0m             levels \u001b[39m=\u001b[39m \u001b[39mself\u001b[39m\u001b[39m.\u001b[39mhue_names\n\u001b[1;32m--> 694\u001b[0m         palette \u001b[39m=\u001b[39m [palette[l] \u001b[39mfor\u001b[39;49;00m l \u001b[39min\u001b[39;49;00m levels]\n\u001b[0;32m    696\u001b[0m     colors \u001b[39m=\u001b[39m color_palette(palette, n_colors)\n\u001b[0;32m    698\u001b[0m \u001b[39m# Desaturate a bit because these are patches\u001b[39;00m\n",
      "File \u001b[1;32m~\\AppData\\Local\\Packages\\PythonSoftwareFoundation.Python.3.11_qbz5n2kfra8p0\\LocalCache\\local-packages\\Python311\\site-packages\\seaborn\\categorical.py:694\u001b[0m, in \u001b[0;36m<listcomp>\u001b[1;34m(.0)\u001b[0m\n\u001b[0;32m    692\u001b[0m         \u001b[39melse\u001b[39;00m:\n\u001b[0;32m    693\u001b[0m             levels \u001b[39m=\u001b[39m \u001b[39mself\u001b[39m\u001b[39m.\u001b[39mhue_names\n\u001b[1;32m--> 694\u001b[0m         palette \u001b[39m=\u001b[39m [palette[l] \u001b[39mfor\u001b[39;00m l \u001b[39min\u001b[39;00m levels]\n\u001b[0;32m    696\u001b[0m     colors \u001b[39m=\u001b[39m color_palette(palette, n_colors)\n\u001b[0;32m    698\u001b[0m \u001b[39m# Desaturate a bit because these are patches\u001b[39;00m\n",
      "\u001b[1;31mKeyError\u001b[0m: 'RIC'"
     ]
    },
    {
     "data": {
      "image/png": "[encoded data removed]",
      "text/plain": [
       "<Figure size 1000x500 with 1 Axes>"
      ]
     },
     "metadata": {},
     "output_type": "display_data"
    }
   ],
   "source": [
    "lap_time_distribution(session)"
   ]
  }
 ],
 "metadata": {
  "kernelspec": {
   "display_name": "Python 3",
   "language": "python",
   "name": "python3"
  },
  "language_info": {
   "codemirror_mode": {
    "name": "ipython",
    "version": 3
   },
   "file_extension": ".py",
   "mimetype": "text/x-python",
   "name": "python",
   "nbconvert_exporter": "python",
   "pygments_lexer": "ipython3",
   "version": "3.11.4"
  },
  "orig_nbformat": 4
 },
 "nbformat": 4,
 "nbformat_minor": 2
}
