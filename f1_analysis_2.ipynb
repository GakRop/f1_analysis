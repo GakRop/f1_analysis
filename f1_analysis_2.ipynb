{
 "cells": [
  {
   "attachments": {},
   "cell_type": "markdown",
   "metadata": {},
   "source": [
    "\"\"\"\n",
    "Created on Sun May 28 19:51:21 2023\n",
    "\n",
    "@author: gakro\n",
    "\"\"\"\n",
    "\n",
    "this program is to predict the final position of each driver in the race.\n",
    "thus, the output should be the position (ordinal data from 1 to 20).\n",
    "the inputs (which parameters to use and which year, race, and session to use)\n",
    "and the appropriate algorithms should be considered.\n",
    "\n",
    "training set: Bahrain, Saudi Arabia, Australia, Azerbaijan (all in 2023)\n",
    "test set: Miami (2023)"
   ]
  },
  {
   "cell_type": "code",
   "execution_count": 79,
   "metadata": {},
   "outputs": [],
   "source": [
    "import matplotlib.pyplot as plt\n",
    "import numpy as np\n",
    "import pandas as pd\n",
    "import sklearn\n",
    "import fastf1"
   ]
  },
  {
   "attachments": {},
   "cell_type": "markdown",
   "metadata": {},
   "source": [
    "the following block of code loads the session data of each qualifying race"
   ]
  },
  {
   "cell_type": "code",
   "execution_count": 87,
   "metadata": {},
   "outputs": [
    {
     "name": "stderr",
     "output_type": "stream",
     "text": [
      "core           INFO \tLoading data for Bahrain Grand Prix - Qualifying [v3.0.3]\n",
      "req            INFO \tUsing cached data for driver_info\n",
      "logger      WARNING \tFailed to load result data from Ergast!\n",
      "core        WARNING \tNo result data for this session available on Ergast! (This is expected for recent sessions)\n",
      "req            INFO \tUsing cached data for race_control_messages\n",
      "core           INFO \tFinished loading data for 20 drivers: ['1', '16', '11', '63', '55', '44', '20', '77', '24', '18', '4', '27', '10', '47', '3', '14', '23', '31', '6', '22']\n",
      "core           INFO \tLoading data for Bahrain Grand Prix - Race [v3.0.3]\n",
      "req            INFO \tUsing cached data for driver_info\n",
      "logger      WARNING \tFailed to load result data from Ergast!\n",
      "core        WARNING \tNo result data for this session available on Ergast! (This is expected for recent sessions)\n",
      "req            INFO \tUsing cached data for race_control_messages\n",
      "core           INFO \tFinished loading data for 20 drivers: ['16', '1', '55', '11', '44', '77', '20', '14', '63', '10', '31', '47', '4', '23', '24', '22', '27', '3', '18', '6']\n"
     ]
    }
   ],
   "source": [
    "quali = fastf1.get_session(2022, 1, 4)\n",
    "quali.load(telemetry=False, laps=False, weather=False)\n",
    "\n",
    "race = fastf1.get_session(2022, 1, 5)\n",
    "race.load(telemetry=False, laps=False, weather=False)"
   ]
  },
  {
   "cell_type": "code",
   "execution_count": 96,
   "metadata": {},
   "outputs": [
    {
     "name": "stdout",
     "output_type": "stream",
     "text": [
      "16   NaN\n",
      "1    NaN\n",
      "55   NaN\n",
      "11   NaN\n",
      "44   NaN\n",
      "77   NaN\n",
      "20   NaN\n",
      "14   NaN\n",
      "63   NaN\n",
      "10   NaN\n",
      "31   NaN\n",
      "47   NaN\n",
      "4    NaN\n",
      "23   NaN\n",
      "24   NaN\n",
      "22   NaN\n",
      "27   NaN\n",
      "3    NaN\n",
      "18   NaN\n",
      "6    NaN\n",
      "Name: Position, dtype: float64\n"
     ]
    }
   ],
   "source": [
    "print(race._results[\"Position\"])"
   ]
  },
  {
   "cell_type": "code",
   "execution_count": 65,
   "metadata": {},
   "outputs": [
    {
     "name": "stderr",
     "output_type": "stream",
     "text": [
      "core           INFO \tLoading data for Bahrain Grand Prix - Qualifying [v3.0.3]\n",
      "req            INFO \tUsing cached data for driver_info\n",
      "logger      WARNING \tFailed to load result data from Ergast!\n",
      "core        WARNING \tNo result data for this session available on Ergast! (This is expected for recent sessions)\n",
      "req            INFO \tUsing cached data for race_control_messages\n",
      "core           INFO \tFinished loading data for 20 drivers: ['14', '1', '11', '44', '16', '63', '18', '55', '81', '10', '31', '24', '4', '20', '27', '22', '77', '2', '23', '21']\n",
      "core           INFO \tLoading data for Saudi Arabian Grand Prix - Qualifying [v3.0.3]\n",
      "req            INFO \tUsing cached data for driver_info\n",
      "logger      WARNING \tFailed to load result data from Ergast!\n",
      "core        WARNING \tNo result data for this session available on Ergast! (This is expected for recent sessions)\n",
      "req            INFO \tUsing cached data for race_control_messages\n",
      "core           INFO \tFinished loading data for 20 drivers: ['1', '11', '14', '18', '44', '16', '4', '81', '10', '55', '63', '24', '27', '31', '23', '2', '20', '77', '22', '21']\n",
      "core           INFO \tLoading data for Australian Grand Prix - Qualifying [v3.0.3]\n",
      "req            INFO \tUsing cached data for driver_info\n",
      "logger      WARNING \tFailed to load result data from Ergast!\n",
      "core        WARNING \tNo result data for this session available on Ergast! (This is expected for recent sessions)\n",
      "req            INFO \tUsing cached data for race_control_messages\n",
      "core           INFO \tFinished loading data for 20 drivers: ['1', '14', '31', '63', '10', '11', '55', '44', '18', '24', '27', '23', '16', '81', '77', '22', '2', '20', '21', '4']\n",
      "core           INFO \tLoading data for Azerbaijan Grand Prix - Sprint [v3.0.3]\n",
      "req            INFO \tUsing cached data for driver_info\n",
      "logger      WARNING \tFailed to load result data from Ergast!\n",
      "core        WARNING \tNo result data for this session available on Ergast! (This is expected for recent sessions)\n",
      "req            INFO \tUsing cached data for race_control_messages\n",
      "core           INFO \tFinished loading data for 19 drivers: ['16', '11', '1', '63', '55', '44', '23', '14', '18', '4', '81', '27', '20', '24', '77', '22', '10', '21', '31']\n",
      "core           INFO \tLoading data for Miami Grand Prix - Qualifying [v3.0.3]\n",
      "req            INFO \tUsing cached data for driver_info\n",
      "logger      WARNING \tFailed to load result data from Ergast!\n",
      "core        WARNING \tNo result data for this session available on Ergast! (This is expected for recent sessions)\n",
      "req            INFO \tUsing cached data for race_control_messages\n",
      "core           INFO \tFinished loading data for 20 drivers: ['1', '16', '11', '55', '31', '10', '77', '27', '23', '63', '20', '14', '44', '18', '24', '22', '2', '81', '4', '21']\n"
     ]
    }
   ],
   "source": [
    "bahrain_quali = fastf1.get_session(2023, 1, 4)\n",
    "bahrain_quali.load(telemetry=False, laps=False, weather=False)\n",
    "\n",
    "saudi_quali = fastf1.get_session(2023, 2, 4)\n",
    "saudi_quali.load(telemetry=False, laps=False, weather=False)\n",
    "\n",
    "australia_quali = fastf1.get_session(2023, 3, 4)\n",
    "australia_quali.load(telemetry=False, laps=False, weather=False)\n",
    "\n",
    "azerbaijan_quali = fastf1.get_session(2023, 4, 4)\n",
    "azerbaijan_quali.load(telemetry=False, laps=False, weather=False)\n",
    "\n",
    "miami_quali = fastf1.get_session(2023, 5, 4)\n",
    "miami_quali.load(telemetry=False, laps=False, weather=False)\n",
    "\n",
    "bahrain_quali_result = bahrain_quali.results.Position\n",
    "saudi_quali_result = saudi_quali.results.ClassifiedPosition\n",
    "australia_quali_result = australia_quali.results.ClassifiedPosition\n",
    "azerbaijan_quali_result = azerbaijan_quali.results.ClassifiedPosition\n",
    "miami_quali_result = miami_quali.results.ClassifiedPosition"
   ]
  },
  {
   "cell_type": "code",
   "execution_count": 66,
   "metadata": {},
   "outputs": [
    {
     "name": "stdout",
     "output_type": "stream",
     "text": [
      "14   NaN\n",
      "1    NaN\n",
      "11   NaN\n",
      "44   NaN\n",
      "16   NaN\n",
      "63   NaN\n",
      "18   NaN\n",
      "55   NaN\n",
      "81   NaN\n",
      "10   NaN\n",
      "31   NaN\n",
      "24   NaN\n",
      "4    NaN\n",
      "20   NaN\n",
      "27   NaN\n",
      "22   NaN\n",
      "77   NaN\n",
      "2    NaN\n",
      "23   NaN\n",
      "21   NaN\n",
      "Name: Position, dtype: float64\n"
     ]
    }
   ],
   "source": [
    "print(bahrain_quali_result)"
   ]
  },
  {
   "attachments": {},
   "cell_type": "markdown",
   "metadata": {},
   "source": [
    "the following block of code loads the session data of each race"
   ]
  },
  {
   "cell_type": "code",
   "execution_count": null,
   "metadata": {},
   "outputs": [],
   "source": [
    "bahrain_race = fastf1.get_session(2023, 1, 5)\n",
    "bahrain_race.load(telemetry=False, laps=False, weather=False)\n",
    "\n",
    "saudi_race = fastf1.get_session(2023, 2, 5)\n",
    "saudi_race.load(telemetry=False, laps=False, weather=False)\n",
    "\n",
    "australia_race = fastf1.get_session(2023, 3, 5)\n",
    "australia_race.load(telemetry=False, laps=False, weather=False)\n",
    "\n",
    "azerbaijan_race = fastf1.get_session(2023, 4, 5)\n",
    "azerbaijan_race.load(telemetry=False, laps=False, weather=False)\n",
    "\n",
    "miami_race = fastf1.get_session(2023, 5, 5)\n",
    "miami_race.load(telemetry=False, laps=False, weather=False)\n",
    "\n",
    "bahrain_race_result = bahrain_race.results\n",
    "saudi_race_result = saudi_race.results\n",
    "australia_race_result = australia_race.results\n",
    "azerbaijan_race_result = azerbaijan_race.results\n",
    "miami_race_result = miami_race.results"
   ]
  },
  {
   "attachments": {},
   "cell_type": "markdown",
   "metadata": {},
   "source": [
    "plot the quali position in the x axis and the race finishing position in the y axis\n",
    "to see how much they are correlated as the starter.\n",
    "Try to use the logistic regressio. However, it must be for multiple class\n",
    "(since what we are predicting is the position in the end of the race from 1 to 20),\n",
    "and for ordinal output (since the position has the order).\n",
    "\n",
    "xxx_quali_result.Position => NaN\n",
    "xxx_quali_result.GridPosition => NaN\n",
    "xxx_quali_result.ClassifiedPosition => blank\n",
    "xxx_quali_result.Status => blank\n",
    "\n",
    "xxx_race_result.Position => blank\n",
    "xxx_race_result.GridPosition => blank\n",
    "xxx_race_result.ClassifiedPosition => blank\n",
    "xxx_race_result.Status => blank\n",
    "\n",
    "By default, the session results are indexed by driver number and sorted by finishing position."
   ]
  },
  {
   "cell_type": "code",
   "execution_count": null,
   "metadata": {},
   "outputs": [],
   "source": []
  }
 ],
 "metadata": {
  "kernelspec": {
   "display_name": "Python 3",
   "language": "python",
   "name": "python3"
  },
  "language_info": {
   "codemirror_mode": {
    "name": "ipython",
    "version": 3
   },
   "file_extension": ".py",
   "mimetype": "text/x-python",
   "name": "python",
   "nbconvert_exporter": "python",
   "pygments_lexer": "ipython3",
   "version": "3.11.3"
  },
  "orig_nbformat": 4
 },
 "nbformat": 4,
 "nbformat_minor": 2
}
