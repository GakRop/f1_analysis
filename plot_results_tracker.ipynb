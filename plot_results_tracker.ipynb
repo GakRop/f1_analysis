{
  "cells": [
    {
      "cell_type": "markdown",
      "metadata": {},
      "source": [
        "# Plot driver standings in a heatmap\n",
        "\n",
        "Plot the points for each driven in each race of a given season in a heatmap, as\n",
        "https://public.tableau.com/app/profile/mateusz.karmalski/viz/F1ResultsTracker2022\n"
      ]
    },
    {
      "cell_type": "code",
      "execution_count": 2,
      "metadata": {
        "collapsed": false
      },
      "outputs": [],
      "source": [
        "import pandas as pd\n",
        "import plotly.express as px\n",
        "from plotly.io import show\n",
        "\n",
        "from fastf1.ergast import Ergast"
      ]
    },
    {
      "cell_type": "markdown",
      "metadata": {},
      "source": [
        "First, we load the results for season 2022.\n",
        "\n"
      ]
    },
    {
      "cell_type": "code",
      "execution_count": 3,
      "metadata": {
        "collapsed": false
      },
      "outputs": [
        {
          "name": "stderr",
          "output_type": "stream",
          "text": [
            "req         WARNING \t\n",
            "\n",
            "DEFAULT CACHE ENABLED!\n",
            "\tCache directory: /Users/gakroppongi/Library/Caches/fastf1.\n",
            "\tSize: 1.68 GB\n"
          ]
        }
      ],
      "source": [
        "ergast = Ergast()\n",
        "races = ergast.get_race_schedule(2022)  # Races in year 2022\n",
        "results = []\n",
        "\n",
        "# For each race in the season\n",
        "for rnd, race in races['raceName'].items():\n",
        "\n",
        "    # Get results. Note that we use the round no. + 1, because the round no.\n",
        "    # starts from one (1) instead of zero (0)\n",
        "    temp = ergast.get_race_results(season=2022, round=rnd + 1)\n",
        "    temp = temp.content[0]\n",
        "\n",
        "    # If there is a sprint, get the results as well\n",
        "    sprint = ergast.get_sprint_results(season=2022, round=rnd + 1)\n",
        "    if sprint.content and sprint.description['round'][0] == rnd + 1:\n",
        "        temp = pd.merge(temp, sprint.content[0], on='driverCode', how='left')\n",
        "        # Add sprint points and race points to get the total\n",
        "        temp['points'] = temp['points_x'] + temp['points_y']\n",
        "        temp.drop(columns=['points_x', 'points_y'], inplace=True)\n",
        "\n",
        "    # Add round no. and grand prix name\n",
        "    temp['round'] = rnd + 1\n",
        "    temp['race'] = race.removesuffix(' Grand Prix')\n",
        "    temp = temp[['round', 'race', 'driverCode', 'points']]  # Keep useful cols.\n",
        "    results.append(temp)\n",
        "\n",
        "# Append all races into a single dataframe\n",
        "results = pd.concat(results)\n",
        "races = results['race'].drop_duplicates()"
      ]
    },
    {
      "cell_type": "markdown",
      "metadata": {},
      "source": [
        "Then we “reshape” the results to a wide table, where each row represents a\n",
        "driver and each column refers to a race, and the cell value is the points.\n",
        "\n"
      ]
    },
    {
      "cell_type": "code",
      "execution_count": 4,
      "metadata": {
        "collapsed": false
      },
      "outputs": [],
      "source": [
        "results = results.pivot(index='driverCode', columns='round', values='points')\n",
        "# Here we have a 22-by-22 matrix (22 races and 22 drivers, incl. DEV and HUL)\n",
        "\n",
        "# Rank the drivers by their total points\n",
        "results['total_points'] = results.sum(axis=1)\n",
        "results = results.sort_values(by='total_points', ascending=False)\n",
        "results.drop(columns='total_points', inplace=True)\n",
        "\n",
        "# Use race name, instead of round no., as column names\n",
        "results.columns = races"
      ]
    },
    {
      "cell_type": "markdown",
      "metadata": {},
      "source": [
        "The final step is to plot a heatmap using plotly\n",
        "\n"
      ]
    },
    {
      "cell_type": "code",
      "execution_count": 1,
      "metadata": {
        "collapsed": false
      },
      "outputs": [
        {
          "ename": "NameError",
          "evalue": "name 'px' is not defined",
          "output_type": "error",
          "traceback": [
            "\u001b[0;31m---------------------------------------------------------------------------\u001b[0m",
            "\u001b[0;31mNameError\u001b[0m                                 Traceback (most recent call last)",
            "Cell \u001b[0;32mIn[1], line 1\u001b[0m\n\u001b[0;32m----> 1\u001b[0m fig \u001b[39m=\u001b[39m px\u001b[39m.\u001b[39mimshow(\n\u001b[1;32m      2\u001b[0m     results,\n\u001b[1;32m      3\u001b[0m     text_auto\u001b[39m=\u001b[39m\u001b[39mTrue\u001b[39;00m,\n\u001b[1;32m      4\u001b[0m     aspect\u001b[39m=\u001b[39m\u001b[39m'\u001b[39m\u001b[39mauto\u001b[39m\u001b[39m'\u001b[39m,  \u001b[39m# Automatically adjust the aspect ratio\u001b[39;00m\n\u001b[1;32m      5\u001b[0m     color_continuous_scale\u001b[39m=\u001b[39m[[\u001b[39m0\u001b[39m,    \u001b[39m'\u001b[39m\u001b[39mrgb(198, 219, 239)\u001b[39m\u001b[39m'\u001b[39m],  \u001b[39m# Blue scale\u001b[39;00m\n\u001b[1;32m      6\u001b[0m                             [\u001b[39m0.25\u001b[39m, \u001b[39m'\u001b[39m\u001b[39mrgb(107, 174, 214)\u001b[39m\u001b[39m'\u001b[39m],\n\u001b[1;32m      7\u001b[0m                             [\u001b[39m0.5\u001b[39m,  \u001b[39m'\u001b[39m\u001b[39mrgb(33,  113, 181)\u001b[39m\u001b[39m'\u001b[39m],\n\u001b[1;32m      8\u001b[0m                             [\u001b[39m0.75\u001b[39m, \u001b[39m'\u001b[39m\u001b[39mrgb(8,   81,  156)\u001b[39m\u001b[39m'\u001b[39m],\n\u001b[1;32m      9\u001b[0m                             [\u001b[39m1\u001b[39m,    \u001b[39m'\u001b[39m\u001b[39mrgb(8,   48,  107)\u001b[39m\u001b[39m'\u001b[39m]],\n\u001b[1;32m     10\u001b[0m     labels\u001b[39m=\u001b[39m{\u001b[39m'\u001b[39m\u001b[39mx\u001b[39m\u001b[39m'\u001b[39m: \u001b[39m'\u001b[39m\u001b[39mRace\u001b[39m\u001b[39m'\u001b[39m,\n\u001b[1;32m     11\u001b[0m             \u001b[39m'\u001b[39m\u001b[39my\u001b[39m\u001b[39m'\u001b[39m: \u001b[39m'\u001b[39m\u001b[39mDriver\u001b[39m\u001b[39m'\u001b[39m,\n\u001b[1;32m     12\u001b[0m             \u001b[39m'\u001b[39m\u001b[39mcolor\u001b[39m\u001b[39m'\u001b[39m: \u001b[39m'\u001b[39m\u001b[39mPoints\u001b[39m\u001b[39m'\u001b[39m}       \u001b[39m# Change hover texts\u001b[39;00m\n\u001b[1;32m     13\u001b[0m )\n\u001b[1;32m     14\u001b[0m fig\u001b[39m.\u001b[39mupdate_xaxes(title_text\u001b[39m=\u001b[39m\u001b[39m'\u001b[39m\u001b[39m'\u001b[39m)      \u001b[39m# Remove axis titles\u001b[39;00m\n\u001b[1;32m     15\u001b[0m fig\u001b[39m.\u001b[39mupdate_yaxes(title_text\u001b[39m=\u001b[39m\u001b[39m'\u001b[39m\u001b[39m'\u001b[39m)\n",
            "\u001b[0;31mNameError\u001b[0m: name 'px' is not defined"
          ]
        }
      ],
      "source": [
        "fig = px.imshow(\n",
        "    results,\n",
        "    text_auto=True,\n",
        "    aspect='auto',  # Automatically adjust the aspect ratio\n",
        "    color_continuous_scale=[[0,    'rgb(198, 219, 239)'],  # Blue scale\n",
        "                            [0.25, 'rgb(107, 174, 214)'],\n",
        "                            [0.5,  'rgb(33,  113, 181)'],\n",
        "                            [0.75, 'rgb(8,   81,  156)'],\n",
        "                            [1,    'rgb(8,   48,  107)']],\n",
        "    labels={'x': 'Race',\n",
        "            'y': 'Driver',\n",
        "            'color': 'Points'}       # Change hover texts\n",
        ")\n",
        "fig.update_xaxes(title_text='')      # Remove axis titles\n",
        "fig.update_yaxes(title_text='')\n",
        "fig.update_yaxes(tickmode='linear')  # Show all ticks, i.e. driver names\n",
        "fig.update_yaxes(showgrid=True, gridwidth=1, gridcolor='LightGrey',\n",
        "                 showline=False,\n",
        "                 tickson='boundaries')              # Show horizontal grid only\n",
        "fig.update_xaxes(showgrid=False, showline=False)    # And remove vertical grid\n",
        "fig.update_layout(plot_bgcolor='rgba(0,0,0,0)')     # White background\n",
        "fig.update_layout(coloraxis_showscale=False)        # Remove legend\n",
        "fig.update_layout(xaxis=dict(side='top'))           # x-axis on top\n",
        "fig.update_layout(margin=dict(l=0, r=0, b=0, t=0))  # Remove border margins\n",
        "fig\n",
        "show(fig)"
      ]
    }
  ],
  "metadata": {
    "kernelspec": {
      "display_name": "Python 3",
      "language": "python",
      "name": "python3"
    },
    "language_info": {
      "codemirror_mode": {
        "name": "ipython",
        "version": 3
      },
      "file_extension": ".py",
      "mimetype": "text/x-python",
      "name": "python",
      "nbconvert_exporter": "python",
      "pygments_lexer": "ipython3",
      "version": "3.11.4"
    }
  },
  "nbformat": 4,
  "nbformat_minor": 0
}
